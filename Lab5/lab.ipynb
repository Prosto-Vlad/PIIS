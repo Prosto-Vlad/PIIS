{
 "cells": [
  {
   "cell_type": "markdown",
   "metadata": {},
   "source": [
    "Виконав студент групи ІП-13 Дейнега Владислав Миколайович"
   ]
  },
  {
   "cell_type": "markdown",
   "metadata": {},
   "source": [
    "Завантажуємо та імпортуємо потрібні ліби"
   ]
  },
  {
   "cell_type": "code",
   "execution_count": 2,
   "metadata": {},
   "outputs": [],
   "source": [
    "#%pip install selenium\n",
    "#%pip install spacy\n",
    "from selenium import webdriver\n",
    "import spacy"
   ]
  },
  {
   "cell_type": "markdown",
   "metadata": {},
   "source": [
    "Завантажуємо вміст сторінки"
   ]
  },
  {
   "cell_type": "code",
   "execution_count": 3,
   "metadata": {},
   "outputs": [],
   "source": [
    "core = webdriver.Chrome()\n",
    "linkNews = \"https://pestrecy-rt.ru/news/tag/list/specoperaciia\"\n",
    "core.get(linkNews)"
   ]
  },
  {
   "cell_type": "markdown",
   "metadata": {},
   "source": [
    "Завантажуємо мовну модель"
   ]
  },
  {
   "cell_type": "code",
   "execution_count": null,
   "metadata": {},
   "outputs": [],
   "source": [
    "#!python -m spacy download ru_core_news_md\n",
    "\n",
    "nlp = spacy.load('ru_core_news_md')"
   ]
  },
  {
   "cell_type": "markdown",
   "metadata": {},
   "source": [
    "Скрапимо та кроулемо інформацію з сайта"
   ]
  },
  {
   "cell_type": "code",
   "execution_count": 7,
   "metadata": {},
   "outputs": [
    {
     "name": "stdout",
     "output_type": "stream",
     "text": [
      "Юрия Ивановича\n",
      "Марии Ивановны М.\n",
      "Валерий\n",
      "Алексей\n",
      "Елена Корчагина\n",
      "Сергей Корчагин\n",
      "Артема Прокопчука\n",
      "Александром Агафоновым\n",
      "Ему\n",
      "Валерием Межва\n",
      "Александр Владимиров\n",
      "Минниханов\n",
      "Эдуард Вафин\n",
      "Путин\n"
     ]
    }
   ],
   "source": [
    "def get_news_info(newsLi):\n",
    "    newsTitle = newsLi.find_element(\"xpath\", \".//a/div[1]/h2\").text\n",
    "    newsSubtitle = newsLi.find_element(\"xpath\", \".//a/div[1]/p\").text\n",
    "    \n",
    "    return newsTitle + \"\\n\" + newsSubtitle\n",
    "\n",
    "while True:\n",
    "    xpathNews = \"/html/body/main/ul\"\n",
    "    newsUl = core.find_element(\"xpath\", xpathNews)\n",
    "    news = newsUl.find_elements(\"xpath\", \".//li\")\n",
    "    newsParsed = [get_news_info(news_item) for news_item in news]\n",
    "\n",
    "    keywords = [\"погиб\", \"смерть\", \"простились\", \"погибшим\", \"умер\"]\n",
    "\n",
    "    for item in newsParsed:\n",
    "        if any(keyword in item for keyword in keywords):\n",
    "            doc = nlp(item)\n",
    "            for ent in doc.ents:\n",
    "                if ent.label_ == \"PER\":\n",
    "                    print(ent.text)\n",
    "    \n",
    "    pagingButtons = core.find_elements(\"xpath\", \"/html/body/main/div[2]/div/a\")\n",
    "    nextButton = pagingButtons[-1]\n",
    "    if nextButton.text == \"Далее ❯\":\n",
    "        nextButton.click()\n",
    "    else:\n",
    "        break"
   ]
  }
 ],
 "metadata": {
  "kernelspec": {
   "display_name": "Python 3.7.8 64-bit",
   "language": "python",
   "name": "python3"
  },
  "language_info": {
   "codemirror_mode": {
    "name": "ipython",
    "version": 3
   },
   "file_extension": ".py",
   "mimetype": "text/x-python",
   "name": "python",
   "nbconvert_exporter": "python",
   "pygments_lexer": "ipython3",
   "version": "3.7.8"
  },
  "orig_nbformat": 4,
  "vscode": {
   "interpreter": {
    "hash": "0a54084e6b208ee8d1ce3989ffc20924477a5f55f5a43e22e699a6741623861e"
   }
  }
 },
 "nbformat": 4,
 "nbformat_minor": 2
}
